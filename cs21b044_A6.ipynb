{
 "cells": [
  {
   "cell_type": "code",
   "execution_count": 2,
   "metadata": {
    "deletable": false,
    "editable": false,
    "nbgrader": {
     "cell_type": "code",
     "checksum": "6c2da10587cbcf862b42991b85a1694d",
     "grade": false,
     "grade_id": "cell-850219ab9c627b3e",
     "locked": true,
     "schema_version": 3,
     "solution": false,
     "task": false
    },
    "vscode": {
     "languageId": "ocaml"
    }
   },
   "outputs": [
    {
     "data": {
      "text/plain": [
       "type constant = Constant of string\n"
      ]
     },
     "execution_count": 2,
     "metadata": {},
     "output_type": "execute_result"
    },
    {
     "data": {
      "text/plain": [
       "type variable = Variable of string\n"
      ]
     },
     "execution_count": 2,
     "metadata": {},
     "output_type": "execute_result"
    },
    {
     "data": {
      "text/plain": [
       "type func = Function of string * term list\n",
       "and term = C of constant | V of variable | F of func\n"
      ]
     },
     "execution_count": 2,
     "metadata": {},
     "output_type": "execute_result"
    },
    {
     "data": {
      "text/plain": [
       "type predicate = Predicate of string * term list\n"
      ]
     },
     "execution_count": 2,
     "metadata": {},
     "output_type": "execute_result"
    },
    {
     "data": {
      "text/plain": [
       "type head = predicate\n"
      ]
     },
     "execution_count": 2,
     "metadata": {},
     "output_type": "execute_result"
    },
    {
     "data": {
      "text/plain": [
       "type body = predicate list\n"
      ]
     },
     "execution_count": 2,
     "metadata": {},
     "output_type": "execute_result"
    },
    {
     "data": {
      "text/plain": [
       "type clause = Fact of head | Rule of head * body\n"
      ]
     },
     "execution_count": 2,
     "metadata": {},
     "output_type": "execute_result"
    },
    {
     "data": {
      "text/plain": [
       "type goal = predicate list\n"
      ]
     },
     "execution_count": 2,
     "metadata": {},
     "output_type": "execute_result"
    },
    {
     "data": {
      "text/plain": [
       "type program = clause list\n"
      ]
     },
     "execution_count": 2,
     "metadata": {},
     "output_type": "execute_result"
    }
   ],
   "source": [
    "type constant = Constant of string\n",
    "type variable = Variable of string\n",
    "type func = Function of string * term list\n",
    "and term = C of constant | V of variable | F of func\n",
    "\n",
    "type predicate = Predicate of string * term list\n",
    "\n",
    "type head = predicate\n",
    "type body = predicate list\n",
    "\n",
    "type clause = Fact of head | Rule of head * body\n",
    "\n",
    "type goal = predicate list\n",
    "\n",
    "type program = clause list"
   ]
  },
  {
   "cell_type": "code",
   "execution_count": 3,
   "metadata": {
    "deletable": false,
    "editable": false,
    "nbgrader": {
     "cell_type": "code",
     "checksum": "d30001f0b52434a66087f8917b49cde6",
     "grade": false,
     "grade_id": "cell-1ce7f8577e2f83b6",
     "locked": true,
     "schema_version": 3,
     "solution": false,
     "task": false
    },
    "vscode": {
     "languageId": "ocaml"
    }
   },
   "outputs": [
    {
     "data": {
      "text/plain": [
       "val string_of_f_list : ('a -> string) -> 'a list -> string = <fun>\n"
      ]
     },
     "execution_count": 3,
     "metadata": {},
     "output_type": "execute_result"
    },
    {
     "data": {
      "text/plain": [
       "val string_of_term : term -> string = <fun>\n"
      ]
     },
     "execution_count": 3,
     "metadata": {},
     "output_type": "execute_result"
    },
    {
     "data": {
      "text/plain": [
       "val string_of_predicate : predicate -> string = <fun>\n"
      ]
     },
     "execution_count": 3,
     "metadata": {},
     "output_type": "execute_result"
    },
    {
     "data": {
      "text/plain": [
       "val string_of_predicate_list : predicate list -> string = <fun>\n"
      ]
     },
     "execution_count": 3,
     "metadata": {},
     "output_type": "execute_result"
    },
    {
     "data": {
      "text/plain": [
       "val string_of_goal : predicate list -> string = <fun>\n"
      ]
     },
     "execution_count": 3,
     "metadata": {},
     "output_type": "execute_result"
    },
    {
     "data": {
      "text/plain": [
       "val string_of_clause : clause -> string = <fun>\n"
      ]
     },
     "execution_count": 3,
     "metadata": {},
     "output_type": "execute_result"
    },
    {
     "data": {
      "text/plain": [
       "val string_of_program : clause list -> string = <fun>\n"
      ]
     },
     "execution_count": 3,
     "metadata": {},
     "output_type": "execute_result"
    }
   ],
   "source": [
    "let rec string_of_f_list f tl =\n",
    "  let _, s = List.fold_left (fun (first, s) t -> \n",
    "    let prefix = if first then \"\" else s ^ \", \" in\n",
    "    false, prefix ^ (f t)) (true,\"\") tl\n",
    "  in \n",
    "  s\n",
    "\n",
    "let rec string_of_term t =\n",
    "  match t with\n",
    "  | C (Constant c) -> c\n",
    "  | V (Variable v) -> v\n",
    "  | F (Function (f,tl)) -> \n",
    "      f ^ \"(\" ^ (string_of_f_list string_of_term tl) ^ \")\"\n",
    "\n",
    "let string_of_predicate (Predicate (p,tl)) =\n",
    "  p ^ \"(\" ^ (string_of_f_list string_of_term tl) ^\")\"\n",
    "  \n",
    "let string_of_predicate_list pl =\n",
    "  string_of_f_list string_of_predicate pl\n",
    "  \n",
    "let string_of_goal g =\n",
    "  \"?- \" ^ (string_of_predicate_list g)\n",
    "\n",
    "let string_of_clause c =\n",
    "  match c with\n",
    "  | Fact f -> string_of_predicate f ^ \".\"\n",
    "  | Rule (h,b) -> string_of_predicate h ^ \" :- \" ^ (string_of_predicate_list b) ^ \".\"\n",
    "\n",
    "let string_of_program p =\n",
    "  List.fold_left (fun acc c -> acc ^ (string_of_clause c) ^ \"\\n\") \"\" p"
   ]
  },
  {
   "cell_type": "markdown",
   "metadata": {
    "deletable": false,
    "editable": false,
    "nbgrader": {
     "cell_type": "markdown",
     "checksum": "1e595cdef56b9f287ce409bab691af21",
     "grade": false,
     "grade_id": "cell-e7940771e46d768b",
     "locked": true,
     "schema_version": 3,
     "solution": false,
     "task": false
    }
   },
   "source": [
    "Below are more helper functions:"
   ]
  },
  {
   "cell_type": "code",
   "execution_count": 4,
   "metadata": {
    "deletable": false,
    "editable": false,
    "nbgrader": {
     "cell_type": "code",
     "checksum": "1e1bbaed6a135e897176d18375fceab0",
     "grade": false,
     "grade_id": "cell-ffdac7359cc5accb",
     "locked": true,
     "schema_version": 3,
     "solution": false,
     "task": false
    },
    "vscode": {
     "languageId": "ocaml"
    }
   },
   "outputs": [
    {
     "data": {
      "text/plain": [
       "val var : string -> variable = <fun>\n"
      ]
     },
     "execution_count": 4,
     "metadata": {},
     "output_type": "execute_result"
    },
    {
     "data": {
      "text/plain": [
       "val var_t : string -> term = <fun>\n"
      ]
     },
     "execution_count": 4,
     "metadata": {},
     "output_type": "execute_result"
    },
    {
     "data": {
      "text/plain": [
       "val const : string -> constant = <fun>\n"
      ]
     },
     "execution_count": 4,
     "metadata": {},
     "output_type": "execute_result"
    },
    {
     "data": {
      "text/plain": [
       "val const_t : string -> term = <fun>\n"
      ]
     },
     "execution_count": 4,
     "metadata": {},
     "output_type": "execute_result"
    },
    {
     "data": {
      "text/plain": [
       "val func : string -> term list -> func = <fun>\n"
      ]
     },
     "execution_count": 4,
     "metadata": {},
     "output_type": "execute_result"
    },
    {
     "data": {
      "text/plain": [
       "val func_t : string -> term list -> term = <fun>\n"
      ]
     },
     "execution_count": 4,
     "metadata": {},
     "output_type": "execute_result"
    },
    {
     "data": {
      "text/plain": [
       "val pred : string -> term list -> predicate = <fun>\n"
      ]
     },
     "execution_count": 4,
     "metadata": {},
     "output_type": "execute_result"
    },
    {
     "data": {
      "text/plain": [
       "val fact : head -> clause = <fun>\n"
      ]
     },
     "execution_count": 4,
     "metadata": {},
     "output_type": "execute_result"
    },
    {
     "data": {
      "text/plain": [
       "val rule : head -> body -> clause = <fun>\n"
      ]
     },
     "execution_count": 4,
     "metadata": {},
     "output_type": "execute_result"
    }
   ],
   "source": [
    "let var v = Variable v\n",
    "let var_t v = V (var v)\n",
    "let const c = Constant c\n",
    "let const_t c = C (Constant c)\n",
    "let func f l = Function (f,l)\n",
    "let func_t f l = F (func f l)\n",
    "let pred p l = Predicate (p,l)\n",
    "let fact f = Fact f\n",
    "let rule h b = Rule (h,b)"
   ]
  },
  {
   "cell_type": "code",
   "execution_count": 5,
   "metadata": {
    "deletable": false,
    "nbgrader": {
     "cell_type": "code",
     "checksum": "49b86af691464ea508363c697a081edf",
     "grade": false,
     "grade_id": "cell-ec625c2e0cf9df17",
     "locked": false,
     "schema_version": 3,
     "solution": true,
     "task": false
    },
    "vscode": {
     "languageId": "ocaml"
    }
   },
   "outputs": [
    {
     "data": {
      "text/plain": [
       "val occurs_check : variable -> term -> bool = <fun>\n",
       "val ochelper : variable -> term list -> bool = <fun>\n"
      ]
     },
     "execution_count": 5,
     "metadata": {},
     "output_type": "execute_result"
    }
   ],
   "source": [
    "let rec occurs_check v t =\n",
    "(\n",
    "    match t with\n",
    "    | C (Constant const_term) -> false\n",
    "    | V (Variable var_term) -> \n",
    "    (\n",
    "        match v with \n",
    "        | Variable x -> (x=var_term)\n",
    "    )\n",
    "    | F (Function (f,tl)) -> (ochelper v tl)\n",
    ")\n",
    "\n",
    "and ochelper v tl = \n",
    "(\n",
    "    match tl with\n",
    "    | [] -> false\n",
    "    | h::tail -> if (occurs_check v h) then true else (ochelper v tail)\n",
    ")\n"
   ]
  },
  {
   "cell_type": "code",
   "execution_count": 7,
   "metadata": {
    "deletable": false,
    "nbgrader": {
     "cell_type": "code",
     "checksum": "9a95c1a1f736fba0c13674fb627a9ede",
     "grade": false,
     "grade_id": "cell-ed4d6f79936e1c24",
     "locked": false,
     "schema_version": 3,
     "solution": true,
     "task": false
    },
    "vscode": {
     "languageId": "ocaml"
    }
   },
   "outputs": [
    {
     "name": "stderr",
     "output_type": "stream",
     "text": [
      "File \"[7]\", line 1, characters 64-82:\n",
      "1 | module VarSet = Set.Make(struct type t = variable let compare = Pervasives.compare end)\n",
      "                                                                    ^^^^^^^^^^^^^^^^^^\n",
      "Alert deprecated: module Stdlib.Pervasives\n",
      "Use Stdlib instead.\n",
      "\n",
      "If you need to stay compatible with OCaml < 4.07, you can use the \n",
      "stdlib-shims library: https://github.com/ocaml/stdlib-shims\n"
     ]
    },
    {
     "data": {
      "text/plain": [
       "module VarSet :\n",
       "  sig\n",
       "    type elt = variable\n",
       "    type t\n",
       "    val empty : t\n",
       "    val is_empty : t -> bool\n",
       "    val mem : elt -> t -> bool\n",
       "    val add : elt -> t -> t\n",
       "    val singleton : elt -> t\n",
       "    val remove : elt -> t -> t\n",
       "    val union : t -> t -> t\n",
       "    val inter : t -> t -> t\n",
       "    val disjoint : t -> t -> bool\n",
       "    val diff : t -> t -> t\n",
       "    val compare : t -> t -> int\n",
       "    val equal : t -> t -> bool\n",
       "    val subset : t -> t -> bool\n",
       "    val iter : (elt -> unit) -> t -> unit\n",
       "    val map : (elt -> elt) -> t -> t\n",
       "    val fold : (elt -> 'a -> 'a) -> t -> 'a -> 'a\n",
       "    val for_all : (elt -> bool) -> t -> bool\n",
       "    val exists : (elt -> bool) -> t -> bool\n",
       "    val filter : (elt -> bool) -> t -> t\n",
       "    val partition : (elt -> bool) -> t -> t * t\n",
       "    val cardinal : t -> int\n",
       "    val elements : t -> elt list\n",
       "    val min_elt : t -> elt\n",
       "    val min_elt_opt : t -> elt option\n",
       "    val max_elt : t -> elt\n",
       "    val max_elt_opt : t -> elt option\n",
       "    val choose : t -> elt\n",
       "    val choose_opt : t -> elt option\n",
       "    val split : elt -> t -> t * bool * t\n",
       "    val find : elt -> t -> elt\n",
       "    val find_opt : elt -> t -> elt option\n",
       "    val find_first : (elt -> bool) -> t -> elt\n",
       "    val find_first_opt : (elt -> bool) -> t -> elt option\n",
       "    val find_last : (elt -> bool) -> t -> elt\n",
       "    val find_last_opt : (elt -> bool) -> t -> elt option\n",
       "    val of_list : elt list -> t\n",
       "    val to_seq_from : elt -> t -> elt Seq.t\n",
       "    val to_seq : t -> elt Seq.t\n",
       "    val add_seq : elt Seq.t -> t -> t\n",
       "    val of_seq : elt Seq.t -> t\n",
       "  end\n"
      ]
     },
     "execution_count": 7,
     "metadata": {},
     "output_type": "execute_result"
    },
    {
     "data": {
      "text/plain": [
       "val vot_helper : term -> VarSet.t -> VarSet.t = <fun>\n",
       "val tl_helper : term list -> VarSet.t -> VarSet.t = <fun>\n"
      ]
     },
     "execution_count": 7,
     "metadata": {},
     "output_type": "execute_result"
    },
    {
     "data": {
      "text/plain": [
       "val variables_of_term : term -> VarSet.t = <fun>\n"
      ]
     },
     "execution_count": 7,
     "metadata": {},
     "output_type": "execute_result"
    },
    {
     "data": {
      "text/plain": [
       "val variables_of_predicate : predicate -> VarSet.t = <fun>\n"
      ]
     },
     "execution_count": 7,
     "metadata": {},
     "output_type": "execute_result"
    },
    {
     "data": {
      "text/plain": [
       "val voc_helper : clause -> VarSet.t -> VarSet.t = <fun>\n",
       "val pl_helper : body -> VarSet.t -> VarSet.t = <fun>\n"
      ]
     },
     "execution_count": 7,
     "metadata": {},
     "output_type": "execute_result"
    },
    {
     "data": {
      "text/plain": [
       "val variables_of_clause : clause -> VarSet.t = <fun>\n"
      ]
     },
     "execution_count": 7,
     "metadata": {},
     "output_type": "execute_result"
    }
   ],
   "source": [
    "module VarSet = Set.Make(struct type t = variable let compare = Pervasives.compare end)\n",
    "(* DO NOT CHANGE THE ABOVE DEFINITION \n",
    "   You can ignore any alerts that you may get regarding the usage of Pervasives.*)\n",
    "   \n",
    "   \n",
    "let rec vot_helper t curSet = \n",
    "(\n",
    "    match t with\n",
    "    | C const_term -> curSet\n",
    "    | V var_term -> VarSet.add var_term curSet\n",
    "    | F (Function (f,tl)) -> (tl_helper tl curSet)\n",
    ")\n",
    "and tl_helper tl curSet = \n",
    "(\n",
    "    match tl with\n",
    "    | [] -> curSet\n",
    "    | h::tail -> tl_helper tail (vot_helper h curSet)\n",
    ")\n",
    "\n",
    "let variables_of_term t = vot_helper t VarSet.empty\n",
    "\n",
    "\n",
    "\n",
    "\n",
    "let variables_of_predicate (Predicate (_, l)) = tl_helper l VarSet.empty\n",
    "\n",
    "\n",
    "\n",
    "let rec voc_helper c curSet = \n",
    "(\n",
    "    match c with\n",
    "    | Fact f -> VarSet.union curSet (variables_of_predicate f)\n",
    "    | Rule (h,b) -> (pl_helper b (VarSet.union curSet (variables_of_predicate h)))\n",
    ")\n",
    "\n",
    "and pl_helper pl curSet = \n",
    "(\n",
    "    match pl with\n",
    "    | [] -> curSet\n",
    "    | h::tail -> pl_helper tail (VarSet.union curSet (variables_of_predicate h) )\n",
    ")\n",
    "  \n",
    "let variables_of_clause c = voc_helper c VarSet.empty\n",
    "\n"
   ]
  },
  {
   "cell_type": "code",
   "execution_count": 9,
   "metadata": {
    "deletable": false,
    "nbgrader": {
     "cell_type": "code",
     "checksum": "9ad0d491f0654f1983a27f5f972a4635",
     "grade": false,
     "grade_id": "cell-99475c4c37156fc5",
     "locked": false,
     "schema_version": 3,
     "solution": true,
     "task": false
    },
    "vscode": {
     "languageId": "ocaml"
    }
   },
   "outputs": [
    {
     "name": "stderr",
     "output_type": "stream",
     "text": [
      "File \"[9]\", line 1, characters 70-88:\n",
      "1 | module Substitution = Map.Make(struct type t = variable let compare = Pervasives.compare end)\n",
      "                                                                          ^^^^^^^^^^^^^^^^^^\n",
      "Alert deprecated: module Stdlib.Pervasives\n",
      "Use Stdlib instead.\n",
      "\n",
      "If you need to stay compatible with OCaml < 4.07, you can use the \n",
      "stdlib-shims library: https://github.com/ocaml/stdlib-shims\n"
     ]
    },
    {
     "data": {
      "text/plain": [
       "module Substitution :\n",
       "  sig\n",
       "    type key = variable\n",
       "    type +'a t\n",
       "    val empty : 'a t\n",
       "    val is_empty : 'a t -> bool\n",
       "    val mem : key -> 'a t -> bool\n",
       "    val add : key -> 'a -> 'a t -> 'a t\n",
       "    val update : key -> ('a option -> 'a option) -> 'a t -> 'a t\n",
       "    val singleton : key -> 'a -> 'a t\n",
       "    val remove : key -> 'a t -> 'a t\n",
       "    val merge :\n",
       "      (key -> 'a option -> 'b option -> 'c option) -> 'a t -> 'b t -> 'c t\n",
       "    val union : (key -> 'a -> 'a -> 'a option) -> 'a t -> 'a t -> 'a t\n",
       "    val compare : ('a -> 'a -> int) -> 'a t -> 'a t -> int\n",
       "    val equal : ('a -> 'a -> bool) -> 'a t -> 'a t -> bool\n",
       "    val iter : (key -> 'a -> unit) -> 'a t -> unit\n",
       "    val fold : (key -> 'a -> 'b -> 'b) -> 'a t -> 'b -> 'b\n",
       "    val for_all : (key -> 'a -> bool) -> 'a t -> bool\n",
       "    val exists : (key -> 'a -> bool) -> 'a t -> bool\n",
       "    val filter : (key -> 'a -> bool) -> 'a t -> 'a t\n",
       "    val partition : (key -> 'a -> bool) -> 'a t -> 'a t * 'a t\n",
       "    val cardinal : 'a t -> int\n",
       "    val bindings : 'a t -> (key * 'a) list\n",
       "    val min_binding : 'a t -> key * 'a\n",
       "    val min_binding_opt : 'a t -> (key * 'a) option\n",
       "    val max_binding : 'a t -> key * 'a\n",
       "    val max_binding_opt : 'a t -> (key * 'a) option\n",
       "    val choose : 'a t -> key * 'a\n",
       "    val choose_opt : 'a t -> (key * 'a) option\n",
       "    val split : key -> 'a t -> 'a t * 'a option * 'a t\n",
       "    val find : key -> 'a t -> 'a\n",
       "    val find_opt : key -> 'a t -> 'a option\n",
       "    val find_first : (key -> bool) -> 'a t -> key * 'a\n",
       "    val find_first_opt : (key -> bool) -> 'a t -> (key * 'a) option\n",
       "    val find_last : (key -> bool) -> 'a t -> key * 'a\n",
       "    val find_last_opt : (key -> bool) -> 'a t -> (key * 'a) option\n",
       "    val map : ('a -> 'b) -> 'a t -> 'b t\n",
       "    val mapi : (key -> 'a -> 'b) -> 'a t -> 'b t\n",
       "    val to_seq : 'a t -> (key * 'a) Seq.t\n",
       "    val to_seq_from : key -> 'a t -> (key * 'a) Seq.t\n",
       "    val add_seq : (key * 'a) Seq.t -> 'a t -> 'a t\n",
       "    val of_seq : (key * 'a) Seq.t -> 'a t\n",
       "  end\n"
      ]
     },
     "execution_count": 9,
     "metadata": {},
     "output_type": "execute_result"
    },
    {
     "data": {
      "text/plain": [
       "val string_of_substitution : term Substitution.t -> string = <fun>\n"
      ]
     },
     "execution_count": 9,
     "metadata": {},
     "output_type": "execute_result"
    },
    {
     "data": {
      "text/plain": [
       "val substitute_in_term : term Substitution.t -> term -> term = <fun>\n",
       "val tl_helper : term list -> term Substitution.t -> term list = <fun>\n"
      ]
     },
     "execution_count": 9,
     "metadata": {},
     "output_type": "execute_result"
    },
    {
     "data": {
      "text/plain": [
       "val substitute_in_predicate : term Substitution.t -> predicate -> predicate =\n",
       "  <fun>\n"
      ]
     },
     "execution_count": 9,
     "metadata": {},
     "output_type": "execute_result"
    },
    {
     "data": {
      "text/plain": [
       "val substitute_in_clause : term Substitution.t -> clause -> clause = <fun>\n",
       "val pl_helper2 : body -> term Substitution.t -> body = <fun>\n"
      ]
     },
     "execution_count": 9,
     "metadata": {},
     "output_type": "execute_result"
    }
   ],
   "source": [
    "module Substitution = Map.Make(struct type t = variable let compare = Pervasives.compare end)\n",
    "(* DO NOT CHANGE THE ABOVE DEFINITION \n",
    "   You can ignore any alerts that you may get regarding the usage of Pervasives.*)\n",
    "\n",
    "let string_of_substitution s =\n",
    "  \"{\" ^ (Substitution.fold (fun (Variable v) t s -> s ^ \"; \" ^ v ^ \" -> \" ^ (string_of_term t)) s \"\") ^ \"}\"\n",
    "\n",
    "let rec substitute_in_term s t =\n",
    "(\n",
    "    match t with\n",
    "    | C const_term -> t\n",
    "    | V (Variable var_term) -> \n",
    "    (\n",
    "        match (Substitution.find_opt (Variable var_term) s) with\n",
    "        | None -> t\n",
    "        | Some x -> x\n",
    "    )\n",
    "    | F (Function (f,tl)) -> (func_t f (tl_helper tl s)) \n",
    ")\n",
    "and tl_helper tl s =\n",
    "(\n",
    "    match tl with\n",
    "    | [] -> []\n",
    "    | h::tail -> (substitute_in_term s h)::(tl_helper tail s)\n",
    ")\n",
    "\n",
    "let rec substitute_in_predicate s (Predicate (p,l)) = (Predicate (p,(tl_helper l s)))\n",
    "\n",
    "  \n",
    "let rec substitute_in_clause s c =\n",
    "\n",
    "(\n",
    "    match c with\n",
    "    | Fact f -> (fact (substitute_in_predicate s f))\n",
    "    | Rule (h,b) -> (rule (substitute_in_predicate s h) (pl_helper2 b s))\n",
    ")\n",
    "\n",
    "and pl_helper2 pl s =\n",
    "(\n",
    "    match pl with\n",
    "    | [] -> []\n",
    "    | h::tail -> (substitute_in_predicate s h)::(pl_helper2 tail s)\n",
    ")"
   ]
  },
  {
   "cell_type": "markdown",
   "metadata": {
    "deletable": false,
    "editable": false,
    "nbgrader": {
     "cell_type": "markdown",
     "checksum": "6b46914a350b710b8d3eb56a90fe3083",
     "grade": false,
     "grade_id": "cell-6d4f2f7c721e109a",
     "locked": true,
     "schema_version": 3,
     "solution": false,
     "task": false
    }
   },
   "source": [
    "We define a function `freshen` that given a clause, returns a clause where are the variables have been renamed with fresh variables. "
   ]
  },
  {
   "cell_type": "code",
   "execution_count": 11,
   "metadata": {
    "deletable": false,
    "editable": false,
    "nbgrader": {
     "cell_type": "code",
     "checksum": "e8a0aa89d3680b8570bdff5e77bff84c",
     "grade": false,
     "grade_id": "cell-a1c09fcbea00af26",
     "locked": true,
     "schema_version": 3,
     "solution": false,
     "task": false
    },
    "vscode": {
     "languageId": "ocaml"
    }
   },
   "outputs": [
    {
     "data": {
      "text/plain": [
       "val counter : int ref = {contents = 0}\n"
      ]
     },
     "execution_count": 11,
     "metadata": {},
     "output_type": "execute_result"
    },
    {
     "data": {
      "text/plain": [
       "val fresh : unit -> term = <fun>\n"
      ]
     },
     "execution_count": 11,
     "metadata": {},
     "output_type": "execute_result"
    },
    {
     "data": {
      "text/plain": [
       "val freshen : clause -> clause = <fun>\n"
      ]
     },
     "execution_count": 11,
     "metadata": {},
     "output_type": "execute_result"
    }
   ],
   "source": [
    "let counter = ref 0\n",
    "let fresh () = \n",
    "  let c = !counter in\n",
    "  counter := !counter + 1;\n",
    "  V (Variable (\"_G\" ^ string_of_int c))\n",
    "\n",
    "let freshen c =\n",
    "  let vars = variables_of_clause c in\n",
    "  let s = VarSet.fold (fun v s -> Substitution.add v (fresh()) s) vars Substitution.empty in\n",
    "  substitute_in_clause s c"
   ]
  },
  {
   "cell_type": "markdown",
   "metadata": {
    "deletable": false,
    "editable": false,
    "nbgrader": {
     "cell_type": "markdown",
     "checksum": "412b5e84d8da86c5dc03b26995eaff70",
     "grade": false,
     "grade_id": "cell-b79de977263be26b",
     "locked": true,
     "schema_version": 3,
     "solution": false,
     "task": false
    }
   },
   "source": [
    "For example, "
   ]
  },
  {
   "cell_type": "code",
   "execution_count": 12,
   "metadata": {
    "deletable": false,
    "editable": false,
    "nbgrader": {
     "cell_type": "code",
     "checksum": "b1ed9f9ce1b4948b3a94b8a960d8a844",
     "grade": false,
     "grade_id": "cell-ef219dd17f6f35de",
     "locked": true,
     "schema_version": 3,
     "solution": false,
     "task": false
    },
    "vscode": {
     "languageId": "ocaml"
    }
   },
   "outputs": [
    {
     "data": {
      "text/plain": [
       "val c : clause =\n",
       "  Rule\n",
       "   (Predicate (\"p\", [V (Variable \"X\"); V (Variable \"Y\"); C (Constant \"a\")]),\n",
       "   [Predicate (\"q\", [V (Variable \"X\"); C (Constant \"b\"); C (Constant \"a\")])])\n"
      ]
     },
     "execution_count": 12,
     "metadata": {},
     "output_type": "execute_result"
    },
    {
     "data": {
      "text/plain": [
       "- : string = \"p(X, Y, a) :- q(X, b, a).\"\n"
      ]
     },
     "execution_count": 12,
     "metadata": {},
     "output_type": "execute_result"
    },
    {
     "data": {
      "text/plain": [
       "- : string = \"p(_G0, _G1, a) :- q(_G0, b, a).\"\n"
      ]
     },
     "execution_count": 12,
     "metadata": {},
     "output_type": "execute_result"
    }
   ],
   "source": [
    "let c = (rule (pred \"p\" [var_t \"X\"; var_t \"Y\"; const_t \"a\"]) [pred \"q\" [var_t \"X\"; const_t \"b\"; const_t \"a\"]])\n",
    "let _ = string_of_clause c\n",
    "let _ = string_of_clause (freshen c)"
   ]
  },
  {
   "cell_type": "markdown",
   "metadata": {
    "deletable": false,
    "editable": false,
    "nbgrader": {
     "cell_type": "markdown",
     "checksum": "e62832508f2cc4aee91c8e79f1dce951",
     "grade": false,
     "grade_id": "cell-0e16cbc0cd625712",
     "locked": true,
     "schema_version": 3,
     "solution": false,
     "task": false
    }
   },
   "source": [
    "## Problem 4\n",
    "\n",
    "Implement the function:\n",
    "\n",
    "```ocaml\n",
    "compose: term Substitution.t -> term Substitution.t -> term Substitution.t\n",
    "```\n",
    "\n",
    "that composes two substitutions. Use the precise definition of composition from the lectures.\n"
   ]
  },
  {
   "cell_type": "code",
   "execution_count": 13,
   "metadata": {
    "deletable": false,
    "nbgrader": {
     "cell_type": "code",
     "checksum": "2db394c5bfeaa20d4f8df7646e49063e",
     "grade": false,
     "grade_id": "cell-7be3d565c6293683",
     "locked": false,
     "schema_version": 3,
     "solution": true,
     "task": false
    },
    "vscode": {
     "languageId": "ocaml"
    }
   },
   "outputs": [
    {
     "data": {
      "text/plain": [
       "val same_term : term -> term -> bool = <fun>\n"
      ]
     },
     "execution_count": 13,
     "metadata": {},
     "output_type": "execute_result"
    },
    {
     "data": {
      "text/plain": [
       "val map_sub :\n",
       "  (variable * term) list -> term Substitution.t -> (variable * term) list =\n",
       "  <fun>\n"
      ]
     },
     "execution_count": 13,
     "metadata": {},
     "output_type": "execute_result"
    },
    {
     "data": {
      "text/plain": [
       "val yput :\n",
       "  'a Substitution.t -> (Substitution.key * 'a) list -> 'a Substitution.t =\n",
       "  <fun>\n"
      ]
     },
     "execution_count": 13,
     "metadata": {},
     "output_type": "execute_result"
    },
    {
     "data": {
      "text/plain": [
       "val l2m :\n",
       "  (Substitution.key * 'a) list -> 'a Substitution.t -> 'a Substitution.t =\n",
       "  <fun>\n"
      ]
     },
     "execution_count": 13,
     "metadata": {},
     "output_type": "execute_result"
    },
    {
     "data": {
      "text/plain": [
       "val compose :\n",
       "  term Substitution.t -> term Substitution.t -> term Substitution.t = <fun>\n"
      ]
     },
     "execution_count": 13,
     "metadata": {},
     "output_type": "execute_result"
    }
   ],
   "source": [
    "let same_term t1 t2 = \n",
    "(\n",
    "    match t1 with\n",
    "    | V (Variable v1) ->\n",
    "    (\n",
    "        match t2 with\n",
    "        | V (Variable v2) -> (v1=v2)\n",
    "        | _ -> false\n",
    "    )\n",
    "    | _ -> false\n",
    ")\n",
    "\n",
    "let rec map_sub l s2 = \n",
    "(\n",
    "    match l with\n",
    "    | [] -> []\n",
    "    | (hkey, hval)::tail ->\n",
    "    (\n",
    "        let newVal = (substitute_in_term s2 hval) in\n",
    "        if (same_term (V(hkey)) newVal) then (map_sub tail s2)\n",
    "        else (hkey, newVal)::(map_sub tail s2)\n",
    "    )\n",
    ")\n",
    "\n",
    "let rec yput s1 l2 =\n",
    "(\n",
    "    match l2 with\n",
    "    | [] -> s1\n",
    "    | (hkey, hval)::tail ->\n",
    "    (\n",
    "        match (Substitution.find_opt hkey s1) with\n",
    "        | None -> yput (Substitution.add hkey hval s1) tail\n",
    "        | Some _ -> yput s1 tail\n",
    "    )\n",
    ")\n",
    "\n",
    "let rec l2m l m=\n",
    "(\n",
    "    match l with\n",
    "    | [] -> m\n",
    "    | (hkey, hval)::tail -> (l2m tail (Substitution.add hkey hval m))\n",
    ")\n",
    "\n",
    "let compose s1 s2 = \n",
    "(\n",
    "    let l1 = (Substitution.bindings s1) in\n",
    "    let ret = (l2m (map_sub l1 s2) Substitution.empty) in\n",
    "    let l2 = (Substitution.bindings s2) in\n",
    "    (yput ret l2)\n",
    ")\n",
    "\n"
   ]
  },
  {
   "cell_type": "code",
   "execution_count": 15,
   "metadata": {
    "deletable": false,
    "nbgrader": {
     "cell_type": "code",
     "checksum": "34d83b899bea6b426762f42f0ea0f096",
     "grade": false,
     "grade_id": "cell-a6686c74cd97b186",
     "locked": false,
     "schema_version": 3,
     "solution": true,
     "task": false
    },
    "vscode": {
     "languageId": "ocaml"
    }
   },
   "outputs": [
    {
     "data": {
      "text/plain": [
       "val mgu_helper :\n",
       "  term -> term -> term Substitution.t -> term Substitution.t option = <fun>\n",
       "val mgu_fhelper :\n",
       "  term list -> term list -> term Substitution.t -> term Substitution.t option =\n",
       "  <fun>\n"
      ]
     },
     "execution_count": 15,
     "metadata": {},
     "output_type": "execute_result"
    },
    {
     "data": {
      "text/plain": [
       "val mgu : term -> term -> term Substitution.t option = <fun>\n"
      ]
     },
     "execution_count": 15,
     "metadata": {},
     "output_type": "execute_result"
    },
    {
     "data": {
      "text/plain": [
       "val mgu_predicate : predicate -> predicate -> term Substitution.t option =\n",
       "  <fun>\n"
      ]
     },
     "execution_count": 15,
     "metadata": {},
     "output_type": "execute_result"
    }
   ],
   "source": [
    "\n",
    "let rec mgu_helper xtemp ytemp theta =\n",
    "(\n",
    "let x = (substitute_in_term theta xtemp) in\n",
    "let y = (substitute_in_term theta ytemp) in\n",
    "(\n",
    "    match x with\n",
    "    | V (vx) -> \n",
    "    (\n",
    "        if ( not (occurs_check vx y)) then Some (compose theta (Substitution.add vx y (Substitution.empty)))\n",
    "        else\n",
    "        (\n",
    "            if(same_term x y) then Some (theta)\n",
    "            else None\n",
    "        )\n",
    "    )\n",
    "    | C (cx) -> \n",
    "    (\n",
    "        match y with\n",
    "        | V (vy) -> Some(compose theta (Substitution.add vy x (Substitution.empty)))\n",
    "        | C (cy) -> if(cx=cy) then Some(theta) else None\n",
    "        | _ -> None\n",
    "    )\n",
    "    | F (Function (fx,tlx)) ->\n",
    "    (\n",
    "        match y with\n",
    "        | F (Function (fy,tly)) -> \n",
    "            if (not (fx=fy)) then None\n",
    "            else\n",
    "            (\n",
    "                if (not ((List.length tlx) = (List.length tly))) then None\n",
    "                else (mgu_fhelper tlx tly theta)\n",
    "            )\n",
    "        | V (vy) -> if ( not (occurs_check vy x)) then Some (compose theta (Substitution.add vy x (Substitution.empty)))\n",
    "            else None\n",
    "        | C (cy)-> None\n",
    "    )\n",
    ")\n",
    ")\n",
    "and mgu_fhelper lx ly theta =\n",
    "(\n",
    "    match lx with\n",
    "    | [] -> Some (theta)\n",
    "    | x::tx ->\n",
    "    (\n",
    "        match ly with\n",
    "        | [] -> None\n",
    "        | y::ty -> \n",
    "        (\n",
    "            match (mgu_helper x y theta) with\n",
    "            | None -> None\n",
    "            | Some newTheta -> (mgu_fhelper tx ty newTheta)\n",
    "        )\n",
    "    )\n",
    ")\n",
    "\n",
    "let mgu t1 t2 = (mgu_helper t1 t2 (Substitution.empty))\n",
    "\n",
    "let mgu_predicate (Predicate (p1,tlx)) (Predicate (p2,tly)) =\n",
    "(\n",
    "    if (not (p1=p2)) then None\n",
    "    else\n",
    "    (\n",
    "        if (not ((List.length tlx) = (List.length tly))) then None\n",
    "        else (mgu_fhelper tlx tly (Substitution.empty))\n",
    "    )\n",
    ")"
   ]
  },
  {
   "cell_type": "code",
   "execution_count": 18,
   "metadata": {
    "deletable": false,
    "nbgrader": {
     "cell_type": "code",
     "checksum": "c20d1cef4cf06378652a397542b3e556",
     "grade": false,
     "grade_id": "cell-5ee2ae1832ba66df",
     "locked": false,
     "schema_version": 3,
     "solution": true,
     "task": false
    },
    "scrolled": false,
    "vscode": {
     "languageId": "ocaml"
    }
   },
   "outputs": [
    {
     "data": {
      "text/plain": [
       "val append : 'a list -> 'a list -> 'a list = <fun>\n"
      ]
     },
     "execution_count": 18,
     "metadata": {},
     "output_type": "execute_result"
    },
    {
     "data": {
      "text/plain": [
       "val sub_in_list : term Substitution.t -> predicate list -> predicate list =\n",
       "  <fun>\n"
      ]
     },
     "execution_count": 18,
     "metadata": {},
     "output_type": "execute_result"
    },
    {
     "name": "stderr",
     "output_type": "stream",
     "text": [
      "File \"[18]\", lines 18-26, characters 0-1:\n",
      "18 | (\n",
      "19 |         match resolvant with\n",
      "20 |         | cur_res::res_rest ->\n",
      "21 |         (\n",
      "22 |             match (mgu_predicate cur_res h) with\n",
      "23 |             | None -> acc\n",
      "24 |             | Some theta -> (append acc (qhelper program (sub_in_list theta goal) (sub_in_list theta (append b res_rest))))\n",
      "25 |         )\n",
      "26 | )\n",
      "Warning 8: this pattern-matching is not exhaustive.\n",
      "Here is an example of a case that is not matched:\n",
      "[]\n"
     ]
    },
    {
     "data": {
      "text/plain": [
       "val chelper :\n",
       "  predicate list ->\n",
       "  predicate list ->\n",
       "  clause list -> predicate list list -> head -> body -> predicate list list =\n",
       "  <fun>\n",
       "val fhelper :\n",
       "  predicate list ->\n",
       "  predicate list ->\n",
       "  clause list -> predicate list list -> clause -> predicate list list = <fun>\n",
       "val lfhelper :\n",
       "  'a list ->\n",
       "  clause list -> predicate list -> predicate list -> predicate list list =\n",
       "  <fun>\n",
       "val qhelper :\n",
       "  clause list -> predicate list -> predicate list -> predicate list list =\n",
       "  <fun>\n"
      ]
     },
     "execution_count": 18,
     "metadata": {},
     "output_type": "execute_result"
    },
    {
     "data": {
      "text/plain": [
       "val query : clause list -> predicate list -> predicate list list = <fun>\n"
      ]
     },
     "execution_count": 18,
     "metadata": {},
     "output_type": "execute_result"
    }
   ],
   "source": [
    "let rec append list1 list2 =\n",
    "(\n",
    "    match list1 with\n",
    "    | [] -> list2\n",
    "    | head :: tail -> (head :: (append tail list2))\n",
    ")\n",
    "  \n",
    "let rec sub_in_list theta l =\n",
    "(\n",
    "    match l with \n",
    "    | [] -> []\n",
    "    | h::t -> (substitute_in_predicate theta h)::(sub_in_list theta t)\n",
    ")\n",
    "\n",
    "\n",
    "let rec chelper goal resolvant program acc h b =\n",
    "(\n",
    "        match resolvant with\n",
    "        | cur_res::res_rest ->\n",
    "        (\n",
    "            match (mgu_predicate cur_res h) with\n",
    "            | None -> acc\n",
    "            | Some theta -> (append acc (qhelper program (sub_in_list theta goal) (sub_in_list theta (append b res_rest))))\n",
    "        )\n",
    ")\n",
    "  \n",
    "and fhelper goal resolvant program acc pclause =\n",
    "(\n",
    "    match (freshen pclause) with\n",
    "    | Fact h -> (chelper goal resolvant program acc h [])\n",
    "    | Rule (h, b) -> (chelper goal resolvant program acc h b)\n",
    ")\n",
    "\n",
    "and lfhelper acc program goal resolvant =\n",
    "(\n",
    "    \n",
    "    List.fold_left (fhelper goal resolvant program) [] program\n",
    ")\n",
    "\n",
    "and qhelper program goal resolvant =\n",
    "(\n",
    "    if ((List.length resolvant)=0) then [goal]\n",
    "    else (lfhelper [] program goal resolvant)\n",
    ")\n",
    "\n",
    "\n",
    "\n",
    "let query program goal = (qhelper program goal goal)"
   ]
  }
 ],
 "metadata": {
  "kernelspec": {
   "display_name": "OCaml 4.10",
   "language": "OCaml",
   "name": "ocaml-jupyter"
  },
  "language_info": {
   "codemirror_mode": "text/x-ocaml",
   "file_extension": ".ml",
   "mimetype": "text/x-ocaml",
   "name": "OCaml",
   "nbconverter_exporter": null,
   "pygments_lexer": "OCaml",
   "version": "4.10.0"
  }
 },
 "nbformat": 4,
 "nbformat_minor": 2
}
